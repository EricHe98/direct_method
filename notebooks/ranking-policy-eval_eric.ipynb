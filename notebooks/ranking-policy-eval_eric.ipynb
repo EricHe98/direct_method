{
 "cells": [
  {
   "cell_type": "code",
   "execution_count": 1,
   "id": "random-bulgarian",
   "metadata": {},
   "outputs": [
    {
     "name": "stderr",
     "output_type": "stream",
     "text": [
      "WARNING:root:could not import mysqldb. You cannot connect to Aurora without this package, but you can still connect to Redshift.\n"
     ]
    }
   ],
   "source": [
    "import os\n",
    "import json\n",
    "\n",
    "import numpy as np\n",
    "import pandas as pd\n",
    "\n",
    "import matplotlib.pyplot as plt\n",
    "import seaborn as sns\n",
    "\n",
    "import shap\n",
    "import xgboost as xgb\n",
    "import pickle\n",
    "import scipy\n",
    "\n",
    "from connections.db_class import RedshiftDB\n",
    "from connections.db_config import rs_de_conn"
   ]
  },
  {
   "cell_type": "code",
   "execution_count": 2,
   "id": "blessed-order",
   "metadata": {},
   "outputs": [],
   "source": [
    "os.chdir('../')"
   ]
  },
  {
   "cell_type": "code",
   "execution_count": 3,
   "id": "waiting-closing",
   "metadata": {},
   "outputs": [],
   "source": [
    "con = RedshiftDB(rs_de_conn)"
   ]
  },
  {
   "cell_type": "code",
   "execution_count": 4,
   "id": "oriental-nigeria",
   "metadata": {},
   "outputs": [],
   "source": [
    "model_features = ['product_id',\n",
    " 'search_type_id',\n",
    " 'average_published_price',\n",
    " 'advance_purchase_days',\n",
    " 'number_of_nights',\n",
    " 'number_of_adults',\n",
    " 'number_of_children',\n",
    " 'rating',\n",
    " 'stars',\n",
    " 'srq_hotel_distance',\n",
    " 'previous_user_hotel_interaction',\n",
    " 'srq_price_zscore',\n",
    " 'srq_spread_zscore',\n",
    " 'srq_distance_zscore',\n",
    " 'srq_rating_zscore',\n",
    " 'srq_stars_zscore',\n",
    " 'user_price_diff',\n",
    " 'user_stars_diff',\n",
    " 'user_rating_diff',\n",
    " 'region_distance_diff',\n",
    " 'region_cumulative_bookings',\n",
    " 'region_meanprice_diff',\n",
    " 'region_rating_diff',\n",
    " 'region_stars_diff',\n",
    " 'hotel_cumulative_bookings',\n",
    " 'hotel_cumulative_share',\n",
    " 'user_spread_diff',\n",
    " 'bayesian_refundability_rate',\n",
    " 'bayesian_refundability_premium']"
   ]
  },
  {
   "cell_type": "code",
   "execution_count": 5,
   "id": "entertaining-sailing",
   "metadata": {},
   "outputs": [],
   "source": [
    "data = con.read_sql(\"\"\"\n",
    "WITH variants AS\n",
    "(\n",
    "SELECT DISTINCT session_id, variant\n",
    "FROM experiment_assignment\n",
    "WHERE experiment_name = 'Config:tw_sr_smart-rank-api'\n",
    "    OR experiment_name = 'Config:testarossa.experiment.tw_sr.search.result.ranking.api_ppw.enabled'\n",
    "    OR experiment_name = 'Config:testarossa.experiment.tw_sr.search.result.ranking.api.enabled'\n",
    ")\n",
    "SELECT r.search_request_id, \n",
    "    {},\n",
    "    r.is_popawi_1,\n",
    "    r.label,\n",
    "    v.variant\n",
    "FROM search_result_ranking_qa.ranking_features_all r\n",
    "JOIN variants v \n",
    "    ON v.session_id = r.session_id\n",
    "WHERE r.display_rank <= 3\n",
    "    AND variant != 'dual'\n",
    "\"\"\".format(', '.join(f for f in model_features if f != 'popawi')))"
   ]
  },
  {
   "cell_type": "code",
   "execution_count": 6,
   "id": "printable-solid",
   "metadata": {},
   "outputs": [
    {
     "data": {
      "text/plain": [
       "alternative    831958\n",
       "original       816523\n",
       "Name: variant, dtype: int64"
      ]
     },
     "execution_count": 6,
     "metadata": {},
     "output_type": "execute_result"
    }
   ],
   "source": [
    "data['variant'].value_counts()"
   ]
  },
  {
   "cell_type": "code",
   "execution_count": 7,
   "id": "disabled-intent",
   "metadata": {},
   "outputs": [
    {
     "data": {
      "text/plain": [
       "0    1448166\n",
       "1     146630\n",
       "2      40441\n",
       "3      13244\n",
       "Name: label, dtype: int64"
      ]
     },
     "execution_count": 7,
     "metadata": {},
     "output_type": "execute_result"
    }
   ],
   "source": [
    "data['label'].value_counts()"
   ]
  },
  {
   "cell_type": "markdown",
   "id": "typical-yorkshire",
   "metadata": {},
   "source": [
    "# Ability of direct method to measure on-policy"
   ]
  },
  {
   "cell_type": "code",
   "execution_count": 8,
   "id": "secondary-greece",
   "metadata": {},
   "outputs": [],
   "source": [
    "from sklearn.linear_model import LinearRegression"
   ]
  },
  {
   "cell_type": "code",
   "execution_count": 9,
   "id": "together-violin",
   "metadata": {},
   "outputs": [],
   "source": [
    "# split into samples\n",
    "def get_value(df, model, model_type):\n",
    "    true_value = df['label'].mean()\n",
    "    if model_type in {'boost', 'lambda', 'rf'}:\n",
    "        pred_value = model.predict(df[model_features].astype('float'))\n",
    "    if model_type == 'lm':\n",
    "        pred_value = model.predict(df[model_features].astype('float').fillna(0))\n",
    "    pred_value = np.where(pred_value > 4, 4, np.where(pred_value < 0, 0, pred_value))\n",
    "    bias = (true_value - pred_value).mean()\n",
    "    rmse = np.sqrt(np.mean((true_value - pred_value) ** 2))\n",
    "    return true_value, bias, rmse\n",
    "\n",
    "def off_policy_estimate(v0, v1, model_type, name):\n",
    "    bias_v0s = []\n",
    "    bias_v1s = []\n",
    "    true_value_v0s = []\n",
    "    true_value_v1s = []\n",
    "    rmse_v0s = []\n",
    "    rmse_v1s = []\n",
    "    for i in range(10):\n",
    "        v0_train_requests = v0['search_request_id'].drop_duplicates().sample(frac=0.5)\n",
    "        v0_train = v0[v0['search_request_id'].isin(v0_train_requests)].sort_values('search_request_id')\n",
    "        v0_test = v0[~v0['search_request_id'].isin(v0_train_requests)]\n",
    "\n",
    "        # train model\n",
    "        if model_type == 'boost':\n",
    "            model = xgb.XGBRegressor(n_estimators=50)\n",
    "            model.fit(v0_train[model_features].astype('float'), v0_train['label'])\n",
    "        if model_type == 'lm':\n",
    "            model = LinearRegression()\n",
    "            model.fit(v0_train[model_features].astype('float').fillna(0), v0_train['label'])\n",
    "        if model_type == 'lambda':\n",
    "            model = xgb.XGBRanker(n_estimators=50)\n",
    "            model.fit(v0_train[model_features].astype('float'), \n",
    "                      v0_train['label'], \n",
    "                      v0_train['search_request_id'].value_counts(sort=False).sort_index())\n",
    "        if model_type == 'rf':\n",
    "            model = xgb.XGBRFRegressor(n_estimators=50)\n",
    "            model.fit(v0_train[model_features].astype('float'), v0_train['label'])\n",
    "\n",
    "        # predict and evaluate on-policy value\n",
    "        true_value_v0, bias_v0, rmse_v0 = get_value(v0_test, model, model_type)\n",
    "        bias_v0s.append(bias_v0)\n",
    "        true_value_v0s.append(true_value_v0)\n",
    "        rmse_v0s.append(rmse_v0)\n",
    "\n",
    "        # predict and evaluate off-policy value\n",
    "        true_value_v1, bias_v1, rmse_v1 = get_value(v1, model, model_type)\n",
    "        bias_v1s.append(bias_v1)\n",
    "        true_value_v1s.append(true_value_v1)\n",
    "        rmse_v1s.append(rmse_v1)\n",
    "        \n",
    "    results = {}\n",
    "    results['Name'] = name\n",
    "    results['On Policy Value'] = np.mean(true_value_v0s)\n",
    "    results['Off Policy Value'] = np.mean(true_value_v1s)\n",
    "    results['On Policy Bias'] = np.mean(bias_v0s)\n",
    "    results['Off Policy Bias'] = np.mean(bias_v1s)\n",
    "    results['On Policy Std'] = np.std(bias_v0s)    \n",
    "    results['Off Policy Std'] = np.std(bias_v1s)\n",
    "    results['On Policy RMSE'] = np.mean(rmse_v0s)\n",
    "    results['Off Policy RMSE'] = np.mean(rmse_v1s)\n",
    "        \n",
    "    return results"
   ]
  },
  {
   "cell_type": "code",
   "execution_count": 10,
   "id": "analyzed-separation",
   "metadata": {},
   "outputs": [],
   "source": [
    "v0 = data[data['variant'] == 'original']\n",
    "v1 = data[data['variant'] == 'alternative']"
   ]
  },
  {
   "cell_type": "code",
   "execution_count": 11,
   "id": "imported-upgrade",
   "metadata": {},
   "outputs": [
    {
     "name": "stderr",
     "output_type": "stream",
     "text": [
      "Pass `group` as keyword args.  Passing these as positional arguments will be considered as error in future releases.\n",
      "Pass `group` as keyword args.  Passing these as positional arguments will be considered as error in future releases.\n"
     ]
    }
   ],
   "source": [
    "performance = []\n",
    "performance.append(off_policy_estimate(v0, v1, 'boost', 'OP - Boosting'))\n",
    "performance.append(off_policy_estimate(v0, v1, 'lm', 'OP - Linear Regression'))\n",
    "performance.append(off_policy_estimate(v0, v1, 'lambda', 'OP - LambdaMART'))\n",
    "performance.append(off_policy_estimate(v0, v1, 'rf', 'OP - Random Forest'))\n",
    "performance.append(off_policy_estimate(v1, v0, 'boost', 'NP - Boosting'))\n",
    "performance.append(off_policy_estimate(v1, v0, 'lm', 'NP - Linear Regression'))\n",
    "performance.append(off_policy_estimate(v1, v0, 'lambda', 'NP - LambdaMART'))\n",
    "performance.append(off_policy_estimate(v1, v0, 'rf', 'NP - Random Forest'))"
   ]
  },
  {
   "cell_type": "code",
   "execution_count": 22,
   "id": "structural-scholarship",
   "metadata": {},
   "outputs": [],
   "source": [
    "performance_df = pd.DataFrame(performance)"
   ]
  },
  {
   "cell_type": "code",
   "execution_count": 26,
   "id": "loved-volleyball",
   "metadata": {},
   "outputs": [
    {
     "name": "stdout",
     "output_type": "stream",
     "text": [
      "\\begin{tabular}{llrrrr}\n",
      "\\toprule\n",
      "{} &                           Name &  On Policy Value &  On Policy Bias &  On Policy Std &  On Policy RMSE \\\\\n",
      "\\midrule\n",
      "0 &                  OP - Boosting &         0.137233 &       -0.000772 &       0.000707 &        0.165774 \\\\\n",
      "1 &         OP - Linear Regression &         0.137395 &       -0.000399 &       0.001017 &        0.132199 \\\\\n",
      "2 &                OP - LambdaMART &         0.137365 &       -0.298251 &       0.002409 &        0.555895 \\\\\n",
      "3 &  OP - Random Forest Regression &         0.137157 &        0.000016 &       0.000849 &        0.143139 \\\\\n",
      "4 &                  NP - Boosting &         0.186631 &       -0.000270 &       0.000734 &        0.184320 \\\\\n",
      "5 &         NP - Linear Regression &         0.186394 &       -0.000720 &       0.000991 &        0.146489 \\\\\n",
      "6 &                NP - LambdaMART &         0.186658 &       -0.250004 &       0.003538 &        0.576260 \\\\\n",
      "7 &             NP - Random Forest &         0.186704 &        0.000409 &       0.001256 &        0.158106 \\\\\n",
      "\\bottomrule\n",
      "\\end{tabular}\n",
      "\n"
     ]
    }
   ],
   "source": [
    "print(performance_df[['Name', 'On Policy Value', 'On Policy Bias', 'On Policy Std', 'On Policy RMSE']].to_latex())"
   ]
  },
  {
   "cell_type": "code",
   "execution_count": 27,
   "id": "cloudy-physiology",
   "metadata": {},
   "outputs": [
    {
     "name": "stdout",
     "output_type": "stream",
     "text": [
      "\\begin{tabular}{llrrrr}\n",
      "\\toprule\n",
      "{} &                           Name &  Off Policy Value &  Off Policy Bias &  Off Policy Std &  Off Policy RMSE \\\\\n",
      "\\midrule\n",
      "0 &                  OP - Boosting &          0.186435 &        -0.009941 &        0.001531 &         0.212893 \\\\\n",
      "1 &         OP - Linear Regression &          0.186435 &         0.002677 &        0.000688 &         0.172784 \\\\\n",
      "2 &                OP - LambdaMART &          0.186435 &        -0.442453 &        0.004265 &         0.699071 \\\\\n",
      "3 &  OP - Random Forest Regression &          0.186435 &        -0.006005 &        0.001467 &         0.191687 \\\\\n",
      "4 &                  NP - Boosting &          0.137336 &        -0.010458 &        0.001054 &         0.158688 \\\\\n",
      "5 &         NP - Linear Regression &          0.137336 &        -0.012108 &        0.000564 &         0.116803 \\\\\n",
      "6 &                NP - LambdaMART &          0.137336 &        -0.115359 &        0.004427 &         0.418053 \\\\\n",
      "7 &             NP - Random Forest &          0.137336 &        -0.023485 &        0.000603 &         0.132441 \\\\\n",
      "\\bottomrule\n",
      "\\end{tabular}\n",
      "\n"
     ]
    }
   ],
   "source": [
    "print(performance_df[['Name', 'Off Policy Value', 'Off Policy Bias', 'Off Policy Std', 'Off Policy RMSE']].to_latex())"
   ]
  },
  {
   "cell_type": "code",
   "execution_count": null,
   "id": "incident-netherlands",
   "metadata": {},
   "outputs": [],
   "source": []
  }
 ],
 "metadata": {
  "kernelspec": {
   "display_name": "Python 3",
   "language": "python",
   "name": "python3"
  },
  "language_info": {
   "codemirror_mode": {
    "name": "ipython",
    "version": 3
   },
   "file_extension": ".py",
   "mimetype": "text/x-python",
   "name": "python",
   "nbconvert_exporter": "python",
   "pygments_lexer": "ipython3",
   "version": "3.8.2"
  }
 },
 "nbformat": 4,
 "nbformat_minor": 5
}
