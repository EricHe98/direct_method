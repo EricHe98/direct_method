{
 "cells": [
  {
   "cell_type": "code",
   "execution_count": 1,
   "metadata": {},
   "outputs": [],
   "source": [
    "import numpy as np\n",
    "import pandas as pd\n",
    "import matplotlib.pyplot as plt\n",
    "import sys\n",
    "import copy\n",
    "import abc\n",
    "\n",
    "from sklearn.preprocessing import PolynomialFeatures\n",
    "from sklearn.pipeline import make_pipeline, Pipeline\n",
    "from sklearn.linear_model import LinearRegression, LogisticRegression, LogisticRegressionCV, RidgeCV\n",
    "from sklearn.ensemble import RandomForestRegressor, GradientBoostingClassifier, GradientBoostingRegressor\n",
    "from sklearn.model_selection import train_test_split, GridSearchCV\n",
    "from numpy.random import default_rng\n",
    "import seaborn as sns\n",
    "import warnings\n",
    "warnings.filterwarnings('ignore')\n",
    "%matplotlib inline"
   ]
  },
  {
   "cell_type": "markdown",
   "metadata": {},
   "source": [
    "### Loading ZOZO"
   ]
  },
  {
   "cell_type": "code",
   "execution_count": 43,
   "metadata": {
    "scrolled": true
   },
   "outputs": [],
   "source": [
    "bts = pd.read_csv('/scratch/tg1906/open_bandit_dataset/bts/all/all.csv')"
   ]
  },
  {
   "cell_type": "code",
   "execution_count": 4,
   "metadata": {},
   "outputs": [],
   "source": [
    "def create_rewards(df, y_col, drop_context=False):\n",
    "    \n",
    "    classes = df[y_col].unique()\n",
    "    contexts = df.drop(y_col, axis=1).columns\n",
    "    df = pd.concat([df, pd.DataFrame(columns=classes)], axis=1).fillna(0)\n",
    "    \n",
    "    def fill_in_rewards(row, classes):\n",
    "        label = row[y_col]\n",
    "        row.loc[label] = 1\n",
    "        return row\n",
    "    \n",
    "    df = df.apply(fill_in_rewards, axis=1, args=[classes])\n",
    "    if drop_context:\n",
    "        df = df.drop(contexts, axis=1)\n",
    "    \n",
    "    return df"
   ]
  },
  {
   "cell_type": "markdown",
   "metadata": {},
   "source": [
    "### Setting up Target Policy"
   ]
  },
  {
   "cell_type": "code",
   "execution_count": 5,
   "metadata": {},
   "outputs": [],
   "source": [
    "class Policy:\n",
    "    def __init__(self, num_actions=2):\n",
    "        self.num_actions = num_actions\n",
    "\n",
    "    @abc.abstractmethod\n",
    "    def get_action_distribution(self, X):\n",
    "        raise NotImplementedError(\"Must override method\")\n",
    "\n",
    "    def get_action_propensities(self, X, actions):\n",
    "        distrib = self.get_action_distribution(X)\n",
    "        distrib[\"action\"] = actions\n",
    "        return distrib.apply(lambda x : x[x[\"action\"]], axis=1)\n",
    "        \n",
    "    def select_actions(self, X, rng=default_rng(1)):\n",
    "        df = self.get_action_distribution(X)\n",
    "        action_list = df.columns\n",
    "        \n",
    "        df[\"actions\"] = df.apply(lambda x : np.random.choice(action_list, p=x), axis=1)\n",
    "        actions = df[\"actions\"]\n",
    "        propensities = self.get_action_propensities(X, actions)\n",
    "        \n",
    "        return actions, propensities\n",
    "        \n",
    "    def get_value_estimate(self, X, full_rewards):\n",
    "        actions, propensities = self.select_actions(X)\n",
    "        df = pd.DataFrame(full_rewards.reset_index(drop=True)).assign(act = actions)\n",
    "        action_rewards = df.apply(lambda x : x[x[\"act\"]], axis=1)\n",
    "        \n",
    "        return action_rewards.mean()"
   ]
  },
  {
   "cell_type": "code",
   "execution_count": 6,
   "metadata": {},
   "outputs": [],
   "source": [
    "class SKLearnPolicy(Policy):\n",
    "    \"\"\" \n",
    "    An SKLearnPolicy uses a scikit learn model to generate an action distribution.  If the SKLearnPolicy is built with is_deterministic=False, \n",
    "    then the predict distribution for a context x should be whatever predict_proba for the model returns.  If is_deterministic=True, then all the probability mass \n",
    "    should be concentrated on whatever predict of the model returns.\n",
    "    \"\"\"\n",
    "    def __init__(self, model, num_actions=2, is_deterministic=False):\n",
    "        self.is_deterministic = is_deterministic\n",
    "        self.num_actions = num_actions\n",
    "        self.model = model\n",
    "\n",
    "    def get_action_distribution(self, X):\n",
    "        prob = pd.DataFrame(self.model.predict_proba(X), columns=self.model.classes_)\n",
    "        action = self.model.predict(X)\n",
    "        \n",
    "        def deterministic(row):\n",
    "            pred = row[\"act\"]\n",
    "            row[pred] = 1\n",
    "            return row\n",
    "        \n",
    "        if (self.is_deterministic):\n",
    "            df = pd.DataFrame(np.zeros(prob.shape), columns=self.model.classes_).assign(act=action)\n",
    "            df = df.apply(deterministic, axis=1).drop(\"act\", axis=1)\n",
    "        else:\n",
    "            df = copy.deepcopy(prob)\n",
    "\n",
    "        return df\n",
    "\n",
    "    def select_actions(self, X, rng=default_rng(1)):\n",
    "        if (self.is_deterministic):\n",
    "            actions = pd.DataFrame(self.model.predict(X))\n",
    "            propensities = pd.Series([1 for i in range(len(actions))])\n",
    "        else:\n",
    "            df = self.get_action_distribution(X)\n",
    "            action_list = df.columns\n",
    "            df[\"actions\"] = df.apply(lambda x : np.random.choice(action_list, p=x), axis=1)\n",
    "            actions = df[\"actions\"]\n",
    "            propensities = self.get_action_propensities(X, actions)\n",
    "            \n",
    "        return actions, propensities"
   ]
  },
  {
   "cell_type": "markdown",
   "metadata": {},
   "source": [
    "### Setting up Logging Policy"
   ]
  },
  {
   "cell_type": "code",
   "execution_count": 7,
   "metadata": {},
   "outputs": [],
   "source": [
    "class BanditLoggingPolicy(Policy):\n",
    "    \"\"\"\n",
    "    This policy derives from another deterministic policy following the recipe described in the Vlassis et al paper, on the top of the second column in section 5.3.\n",
    "    For any context x, if the deterministic policy selects action a, then this policy selects action a with probability eps (a supplied parameter), and spreads the\n",
    "    rest of the probability mass uniformly over the other actions.\n",
    "    \"\"\"\n",
    "    def __init__(self, num_actions=2, eps=0.3, actions=None, classes=None):\n",
    "        self.num_actions = num_actions\n",
    "        self.eps = eps\n",
    "        self.actions = actions.reset_index(drop=True)\n",
    "        self.classes = classes\n",
    "        \n",
    "    def get_action_distribution(self, X):\n",
    "        \n",
    "        def bandit_sampling(row, classes):\n",
    "            pred = row[\"act\"]\n",
    "            s_a = np.random.uniform(0.1, 1, len(self.classes))\n",
    "            row[row.index!=\"act\"] +=  s_a/s_a.sum()*(1-self.eps) # take care of actions\n",
    "            row[pred] += self.eps\n",
    "            return row\n",
    "        \n",
    "        df = pd.DataFrame(np.zeros([X.shape[0], self.num_actions]), columns=self.classes).assign(act=self.actions)\n",
    "        df = df.apply(bandit_sampling, axis=1, args=[self.classes]).drop(\"act\", axis=1)\n",
    "        return df\n",
    "    \n",
    "class BanditLoggingPolicyWithFeatureDependency(Policy):\n",
    "    def __init__(self, num_actions=2, eps=5, actions=None, classes=None):\n",
    "        self.num_actions = num_actions\n",
    "        self.eps = eps\n",
    "        self.actions = actions.reset_index(drop=True)\n",
    "        self.classes = classes\n",
    "        \n",
    "    def get_action_distribution(self, X):\n",
    "        features = list(X.columns)\n",
    "        n_features = len(features)\n",
    "        selected_features = np.random.choice(features, size=self.eps, replace=False)\n",
    "        X_less_feature = X[selected_features]\n",
    "        model = LogisticRegression(multi_class=\"multinomial\")\n",
    "        model.fit(X_less_feature, self.actions)\n",
    "        prob = model.predict_proba(X_less_feature)\n",
    "        df = pd.DataFrame(prob, columns=model.classes_)\n",
    "        \n",
    "        return df"
   ]
  },
  {
   "cell_type": "code",
   "execution_count": 8,
   "metadata": {},
   "outputs": [],
   "source": [
    "def generate_bandit_feedback(contexts, full_rewards, policy, rng=default_rng(1)):\n",
    "    \"\"\"   \n",
    "    Args:\n",
    "        contexts (np.array): contexts, rows correspond to entries of rewards\n",
    "        full_rewards (np.array): 2-dim numpy array with the same number of rows as X and number of columns corresponding to the number actions\n",
    "            each row gives the reward that would be received for each action for the context in the corresponding row of X. \n",
    "\n",
    "    Returns:\n",
    "        new_contexts (np.array): new_n rows and same number of columns as in contexts\n",
    "        actions (np.array): vector with new_n entries giving actions selected by the provided policy for the contexts in new_contexts\n",
    "        observed_rewards (np.array): vector with new_n entries giving actions selected by the provided policy for the contexts in new_contexts \n",
    "    \"\"\"   \n",
    "    \n",
    "    n, k = full_rewards.shape\n",
    "    new_contexts = contexts\n",
    "    actions, propensities = policy.select_actions(X=new_contexts, rng=rng)\n",
    "    obs_rewards = full_rewards.reset_index(drop=True).assign(act=actions)\n",
    "    obs_rewards[\"obs_r\"] = obs_rewards.apply(lambda x : x[x[\"act\"]], axis=1)\n",
    "    observed_rewards = obs_rewards[\"obs_r\"]\n",
    "    return new_contexts, actions, observed_rewards, propensities"
   ]
  },
  {
   "cell_type": "markdown",
   "metadata": {},
   "source": [
    "### Creating value estimators"
   ]
  },
  {
   "cell_type": "code",
   "execution_count": 9,
   "metadata": {},
   "outputs": [],
   "source": [
    "def get_value_estimators(policy, contexts, actions, rewards, propensities, skip_slow_stuff=False):\n",
    "    \"\"\"   \n",
    "    Args:\n",
    "        policy (Policy): the policy we want to get a value estimate for\n",
    "        contexts (np.array): contexts from bandit feedback\n",
    "        actions (np.array): actions chosen for bandit feedback\n",
    "        rewards (np.array): rewards received in bandit feedback\n",
    "        propensities (np.array): the propensity for each action selected under the logging policy (which is not provided to this function)\n",
    "        skip_slow_stuff (boolean): boolean flag which allows you to turn on/off some slow estimators (ignore this if you like)\n",
    "    Returns:\n",
    "        est (dict): keys are string describing the value estimator, values are the corresponding value estimates \n",
    "    \"\"\"   \n",
    "\n",
    "    est = {}\n",
    "    new_propensities = policy.get_action_propensities(contexts, actions)\n",
    "    new_propensities.to_csv(\"prp.csv\")\n",
    "    imp_wgt = new_propensities / propensities\n",
    "    \n",
    "    est[\"iw\"] = np.mean(rewards*imp_wgt)\n",
    "    est[\"sn-iw\"] = np.sum(rewards*imp_wgt) / np.sum(imp_wgt)\n",
    "\n",
    "    merged = pd.DataFrame(contexts.reset_index(drop=True)).assign(\n",
    "        act=actions.reset_index(drop=True)).assign(r=rewards.reset_index(drop=True)).assign(wgt=imp_wgt)\n",
    "    rewards_linreg, rewards_linreg_iw = pd.DataFrame(), pd.DataFrame()\n",
    "#     rewards_poly5 = pd.DataFrame()\n",
    "    rewards_rf = pd.DataFrame()\n",
    "    \n",
    "    for act in sorted(list(set(actions))):\n",
    "        df = merged.loc[merged[\"act\"]==act]\n",
    "        X, R, wgt = df.drop(columns=[\"act\",\"r\", \"wgt\"]), df[\"r\"], df[\"wgt\"]\n",
    "        \n",
    "        # Direct method with linear ridge regression\n",
    "        rewards_linreg[act] = RidgeCV([1e-3, 1e-2, 1e-1]).fit(X,R).predict(contexts)\n",
    "        rewards_linreg_iw[act] = RidgeCV([1e-3, 1e-2, 1e-1]).fit(X,R, sample_weight=wgt).predict(contexts)\n",
    "        \n",
    "        # Direct method with polynomial regression\n",
    "#         poly5 = make_pipeline(PolynomialFeatures(5),LinearRegression())\n",
    "#         rewards_poly5[act] = poly5.fit(X,R).predict(contexts)      \n",
    "        \n",
    "        # Direct method with a non-linear reward predictor\n",
    "        rf = RandomForestRegressor()\n",
    "        params = {'n_estimators': [100, 150], \n",
    "                  'max_depth': [5, 10]}\n",
    "        rewards_rf[act] = GridSearchCV(rf, params, cv=3).fit(X,R).predict(contexts)\n",
    "\n",
    "    act_dist = policy.get_action_distribution(contexts)\n",
    "    rewards_dbly_lin = (rewards_linreg).assign(act=actions).apply(lambda x: x[x[\"act\"]], axis=1)\n",
    "#     rewards_dbly_poly = (rewards_poly5).assign(act=actions).apply(lambda x: x[x[\"act\"]], axis=1)\n",
    "    rewards_dbly_rf = (rewards_rf).assign(act=actions).apply(lambda x: x[x[\"act\"]], axis=1)\n",
    "    \n",
    "    est[\"dm-lin\"] = (rewards_linreg * act_dist).sum().sum() / act_dist.shape[0]\n",
    "    est[\"dm-iw-lin\"] = (rewards_linreg_iw * act_dist).sum().sum() / act_dist.shape[0]\n",
    "    est[\"dbly-lin\"] = (((rewards-rewards_dbly_lin)*imp_wgt).sum() + \n",
    "                                (rewards_linreg*act_dist).sum().sum()) / act_dist.shape[0]\n",
    "    \n",
    "#     est[\"dm-poly5\"] = (rewards_poly5 * act_dist).sum().sum() / act_dist.shape[0]\n",
    "#     est[\"dbly-poly5\"] = (((rewards-rewards_dbly_poly)*imp_wgt).sum() + \n",
    "#                                 (rewards_poly5*act_dist).sum().sum()) / act_dist.shape[0]\n",
    "    \n",
    "    est[\"dm-rf\"] = (rewards_rf * act_dist).sum().sum() / act_dist.shape[0]\n",
    "    est[\"dbly-rf\"] = (((rewards-rewards_dbly_rf)*imp_wgt).sum() + \n",
    "                                (rewards_rf*act_dist).sum().sum()) / act_dist.shape[0]\n",
    "    return est"
   ]
  },
  {
   "cell_type": "code",
   "execution_count": 10,
   "metadata": {},
   "outputs": [],
   "source": [
    "def get_estimator_stats(estimates, eps, true_parameter_value=None):\n",
    "    est_stat = []\n",
    "    for est in estimates.columns:\n",
    "        pred_means = estimates[est]\n",
    "        stat = {}\n",
    "        stat['stat'] = est\n",
    "        stat['mean'] = np.mean(pred_means)\n",
    "        stat['SD'] = np.std(pred_means)\n",
    "        stat['SE'] = np.std(pred_means) / np.sqrt(len(pred_means))\n",
    "        if true_parameter_value:\n",
    "            stat['bias'] = stat['mean'] - true_parameter_value\n",
    "            stat['RMSE'] = np.sqrt(np.mean((pred_means - true_parameter_value) ** 2))\n",
    "        stat['eps'] = eps\n",
    "        est_stat.append(stat)\n",
    "\n",
    "    return pd.DataFrame(est_stat)"
   ]
  },
  {
   "cell_type": "markdown",
   "metadata": {},
   "source": [
    "#### picked stochastic policy here (deterministic policy has risk of getting 0 weights in the propensities)"
   ]
  },
  {
   "cell_type": "code",
   "execution_count": 11,
   "metadata": {},
   "outputs": [],
   "source": [
    "def value_est_output(data, rewards, model, TargetPolicy, LoggingPolicy, trials=5, rng=default_rng(7), eps=0.5, policy_true_value=None):\n",
    "    \n",
    "    X_train, X_test, y_train, y_test = data[\"X_train\"], data[\"X_test\"], data[\"y_train\"], data[\"y_test\"]\n",
    "    full_rewards_test = rewards\n",
    "    \n",
    "    classes, k = model.classes_, len(model.classes_)\n",
    "    logging_policy = LoggingPolicy(num_actions=k, eps=eps, actions=y_test, classes=classes)\n",
    "    logging_policy_value = logging_policy.get_value_estimate(X=X_test, full_rewards=full_rewards_test)   \n",
    "    print(f\"Logging policy value est: {logging_policy_value:.6f}\")\n",
    "    print(f\"Target policy true value: {policy_true_value:.6f}\")\n",
    "    \n",
    "    val_ests = []    \n",
    "    for i in range(trials):\n",
    "        contexts, actions, rewards, propensities = generate_bandit_feedback(X_test, full_rewards_test, logging_policy, rng=rng)\n",
    "        est = get_value_estimators(TargetPolicy, contexts, actions, rewards, propensities)\n",
    "        val_ests.append(est)\n",
    "    df = pd.DataFrame(val_ests)\n",
    "    \n",
    "    return get_estimator_stats(df, eps, true_parameter_value=policy_true_value) "
   ]
  },
  {
   "cell_type": "markdown",
   "metadata": {},
   "source": [
    "### Part 1. Run experiments with BanditLoggingPolicy\n",
    "(Controlling the bias of the logging policy with eps)"
   ]
  },
  {
   "cell_type": "code",
   "execution_count": 30,
   "metadata": {
    "scrolled": true
   },
   "outputs": [],
   "source": [
    "def run_experiments(data, LoggingPolicy, eps_list, rng=default_rng(7)):\n",
    "    gb = GradientBoostingClassifier()\n",
    "    \n",
    "    pipe_lr = Pipeline([(\"classifier\", LogisticRegression(multi_class=\"multinomial\"))])\n",
    "\n",
    "    param_grid_lr = [{'classifier' :[LogisticRegression(multi_class=\"multinomial\")],\n",
    "                      \"classifier__penalty\" : ['l1', 'l2'],\n",
    "                      \"classifier__C\" : np.logspace(-4, 4, 10),\n",
    "                      \"classifier__max_iter\" : [100]}]\n",
    "\n",
    "    clf_lr = GridSearchCV(pipe_lr, param_grid=param_grid_lr, cv=3, verbose=0, n_jobs=-1)\n",
    "\n",
    "    lr_results = []\n",
    "    gb_results = []\n",
    "    \n",
    "    # Prep data\n",
    "    n = data.shape[0]\n",
    "    train_frac = 0.7\n",
    "    train_size = round(train_frac * n)\n",
    "    train_idx = rng.choice(n, size = train_size, replace = False)\n",
    "    test_idx = np.setdiff1d(np.arange(n), train_idx, assume_unique=True)\n",
    "\n",
    "    data_context, data_label = data.drop(\"label\", axis=1), data[\"label\"]\n",
    "    \n",
    "    X_train, y_train = data_context.iloc[train_idx], data_label.iloc[train_idx]\n",
    "    X_test, y_test = data_context.iloc[test_idx], data_label.iloc[test_idx]\n",
    "    \n",
    "    full_rewards = create_rewards(data, \"label\", True)\n",
    "    full_rewards_test = full_rewards.iloc[test_idx].drop(\"label\", axis=1)\n",
    "\n",
    "    data_dict = {\"X_train\": X_train, \"X_test\": X_test, \"y_train\" : y_train, \"y_test\": y_test}\n",
    "    \n",
    "    clf_lr.fit(X_train, y_train)\n",
    "    lr_policy_stochastic = SKLearnPolicy(model=clf_lr, num_actions=len(data.label.unique()), is_deterministic=False)\n",
    "    lr_policy_true_value = lr_policy_stochastic.get_value_estimate(X_test, full_rewards_test)\n",
    "    \n",
    "    gb.fit(X_train, y_train)\n",
    "    gb_policy_stochastic = SKLearnPolicy(model=gb, num_actions=len(data.label.unique()), is_deterministic=False)\n",
    "    gb_policy_true_value = gb_policy_stochastic.get_value_estimate(X_test, full_rewards_test)\n",
    "    \n",
    "    for e in eps_list:\n",
    "        print(LogisticRegression(multi_class=\"multinomial\"))\n",
    "        lr_res = value_est_output(data_dict, full_rewards_test,  model=clf_lr, LoggingPolicy=LoggingPolicy, \n",
    "                                  TargetPolicy=lr_policy_stochastic,\n",
    "                                  eps=e, policy_true_value=lr_policy_true_value)\n",
    "        display(lr_res)\n",
    "\n",
    "        print(gb)\n",
    "        gb_res = value_est_output(data_dict, full_rewards_test, model=gb, LoggingPolicy=LoggingPolicy, \n",
    "                                  TargetPolicy=gb_policy_stochastic,\n",
    "                                  eps=e, policy_true_value=gb_policy_true_value)\n",
    "        display(gb_res)\n",
    "\n",
    "        lr_results.append(lr_res)\n",
    "        gb_results.append(gb_res)\n",
    "\n",
    "    lr_results = pd.concat(lr_results, ignore_index=True)\n",
    "    gb_results = pd.concat(gb_results, ignore_index=True)\n",
    "    \n",
    "    return lr_results, gb_results"
   ]
  },
  {
   "cell_type": "markdown",
   "metadata": {},
   "source": [
    "### ZOZO data results"
   ]
  },
  {
   "cell_type": "markdown",
   "metadata": {},
   "source": [
    "- \\# of classes = 80\n",
    "- Sample size = 1,000,000"
   ]
  },
  {
   "cell_type": "code",
   "execution_count": null,
   "metadata": {},
   "outputs": [],
   "source": [
    "eps_list = [0.1, 0.2, 0.4, 0.6, 0.8] "
   ]
  },
  {
   "cell_type": "code",
   "execution_count": null,
   "metadata": {},
   "outputs": [],
   "source": [
    "sample = bts.sample(100000).reset_index(drop = True)\n",
    "sample = sample.drop(columns = ['Unnamed: 0', 'timestamp', 'position', 'propensity_score', 'click'])\n",
    "sample = sample.rename(columns = {'item_id': 'label'})\n",
    "label = sample['label'].astype(str)\n",
    "\n",
    "sample = pd.get_dummies(sample.drop(columns = ['label']))\n",
    "sample['label'] = label"
   ]
  },
  {
   "cell_type": "code",
   "execution_count": null,
   "metadata": {},
   "outputs": [],
   "source": [
    "zozo_lr_results, zozo_gb_results = run_experiments(sample, BanditLoggingPolicy, eps_list)"
   ]
  },
  {
   "cell_type": "markdown",
   "metadata": {},
   "source": [
    "### Bar Graphs \n",
    "- bias / eps\n",
    "- RMSE / eps"
   ]
  },
  {
   "cell_type": "code",
   "execution_count": 79,
   "metadata": {},
   "outputs": [],
   "source": [
    "def barplot_by_eps(df, eps_list, model, col):\n",
    "    est_list = df['stat'].unique()\n",
    "    \n",
    "    position = np.arange(len(est_list)) # Position on the x-axis for each label\n",
    "    width = .6 # Bar widths\n",
    "\n",
    "    fig, ax = plt.subplots(figsize=(10,6))\n",
    "    e1 = ax.bar(position - width/2, df[df['eps'] == eps_list[0]][col], width/4)\n",
    "    e2 = ax.bar(position - width/4, df[df['eps'] == eps_list[1]][col], width/4)\n",
    "    e3 = ax.bar(position, df[df['eps'] == eps_list[2]][col], width/4)\n",
    "    e4 = ax.bar(position + width/4, df[df['eps'] == eps_list[3]][col], width/4)\n",
    "    e5 = ax.bar(position + width/2, df[df['eps'] == eps_list[4]][col], width/4)\n",
    "\n",
    "    d = {'lr': 'LogReg', 'gb': 'GrBoost'}\n",
    "    \n",
    "    ax.set_xticks(position)\n",
    "    ax.set_xticklabels(est_list)\n",
    "    ax.set_xlabel('Value estimators')\n",
    "    ax.set_ylabel(col)\n",
    "    ax.legend(['eps=' + str(e) for e in eps_list])\n",
    "    plt.title(f'ZOZO dataset | {d[model]} | {col} / eps')\n",
    "    plt.savefig(f'zozo_{model}_rmse_eps.png')\n",
    "    plt.show()"
   ]
  },
  {
   "cell_type": "code",
   "execution_count": 62,
   "metadata": {},
   "outputs": [],
   "source": [
    "data = [\n",
    "['iw', 0.639408, 0.014738, 0.006591, 0.040339, 0.042947, 0.1],\n",
    "['sn-iw', 0.544877, 0.010862, 0.004858, -0.054192, 0.055270, 0.1],\n",
    "['dm-lin', 0.537090, 0.010986, 0.004913, -0.061979, 0.062945, 0.1],\n",
    "['dm-iw-lin', 0.590106, 0.003035, 0.001357, -0.008963, 0.009463, 0.1],\n",
    "['dbly-lin', 0.585268, 0.003862, 0.001727, -0.013802, 0.014332, 0.1],\n",
    "['dm-rf', 0.614643, 0.003441, 0.001539, 0.015573, 0.015949, 0.1],\n",
    "['dbly-rf', 0.599841, 0.003226, 0.001443, 0.000771, 0.003317, 0.1],\n",
    "['iw', 0.619792, 0.010719, 0.004794, 0.020723, 0.023331, 0.2],\n",
    "['sn-iw', 0.535482, 0.022552, 0.010086, -0.063587, 0.067468, 0.2],\n",
    "['dm-lin', 0.585082, 0.015824, 0.007077, -0.013987, 0.021119, 0.2],\n",
    "['dm-iw-lin', 0.582705, 0.003306, 0.001478, -0.016364, 0.016695, 0.2],\n",
    "['dbly-lin', 0.572080, 0.003603, 0.001611, -0.026990, 0.027229, 0.2],\n",
    "['dm-rf', 0.640211, 0.003147, 0.001407, 0.041142, 0.041262, 0.2],\n",
    "['dbly-rf', 0.611781, 0.004002, 0.001790, 0.012712, 0.013327, 0.2],\n",
    "['iw', 0.603617, 0.010693, 0.004782, 0.004548, 0.011620, 0.4],\n",
    "['sn-iw', 0.524191, 0.016811, 0.007518, -0.074878, 0.076742, 0.4],\n",
    "['dm-lin', 0.659471, 0.011500, 0.005143, 0.060402, 0.061487, 0.4],\n",
    "['dm-iw-lin', 0.585868, 0.009662, 0.004321, -0.013201, 0.016360, 0.4],\n",
    "['dbly-lin', 0.560156, 0.011775, 0.005266, -0.038914, 0.040656, 0.4],\n",
    "['dm-rf', 0.676948, 0.005807, 0.002597, 0.077879, 0.078095, 0.4],\n",
    "['dbly-rf', 0.615208, 0.012463, 0.005574, 0.016139, 0.020391, 0.4],\n",
    "['iw', 0.601451, 0.007092, 0.003171, 0.002382, 0.007481, 0.6],\n",
    "['sn-iw', 0.523887, 0.016644, 0.007444, -0.075182, 0.077002, 0.6],\n",
    "['dm-lin', 0.696510, 0.014806, 0.006622, 0.097441, 0.098559, 0.6],\n",
    "['dm-iw-lin', 0.589033, 0.012312, 0.005506, -0.010036, 0.015884, 0.6],\n",
    "['dbly-lin', 0.549243, 0.023640, 0.010572, -0.049827, 0.055150, 0.6],\n",
    "['dm-rf', 0.705520, 0.005942, 0.002657, 0.106450, 0.106616, 0.6],\n",
    "['dbly-rf', 0.628912, 0.019194, 0.008584, 0.029843, 0.035482, 0.6],\n",
    "['iw', 0.599181, 0.002622, 0.001172, 0.000111, 0.002624, 0.8],\n",
    "['sn-iw', 0.519756, 0.034708, 0.015522, -0.079313, 0.086575, 0.8],\n",
    "['dm-lin', 0.769859, 0.005972, 0.002671, 0.170789, 0.170894, 0.8],\n",
    "['dm-iw-lin', 0.586801, 0.006887, 0.003080, -0.012268, 0.014069, 0.8],\n",
    "['dbly-lin', 0.512909, 0.028143, 0.012586, -0.086160, 0.090640, 0.8],\n",
    "['dm-rf', 0.754487, 0.007962, 0.003561, 0.155418, 0.155621, 0.8],\n",
    "['dbly-rf', 0.632922, 0.019316, 0.008638, 0.033853, 0.038976, 0.8]\n",
    "]\n",
    "\n",
    "zozo_lr_results = pd.DataFrame(data, columns = ['stat', 'mean', 'SD', 'SE', 'bias', 'RMSE', 'eps'])"
   ]
  },
  {
   "cell_type": "code",
   "execution_count": 67,
   "metadata": {},
   "outputs": [],
   "source": [
    "data = [\n",
    "['iw', 0.946970, 0.032972, 0.014745, 0.055468, 0.064528, 0.1],\n",
    "['sn-iw', 0.869671, 0.011667, 0.005218, -0.021830, 0.024752, 0.1],\n",
    "['dm-lin', 0.735341, 0.009781, 0.004374, -0.156160, 0.156466, 0.1],\n",
    "['dm-iw-lin', 0.881221, 0.008500, 0.003801, -0.010280, 0.013339, 0.1],\n",
    "['dbly-lin', 0.892550, 0.006530, 0.002920, 0.001049, 0.006614, 0.1],\n",
    "['dm-rf', 0.879678, 0.008742, 0.003909, -0.011824, 0.014704, 0.1],\n",
    "['dbly-rf', 0.878884, 0.009508, 0.004252, -0.012618, 0.015799, 0.1],\n",
    "['iw', 0.929162, 0.009386, 0.004197, 0.037661, 0.038813, 0.2],\n",
    "['sn-iw', 0.864236, 0.009911, 0.004432, -0.027266, 0.029011, 0.2],\n",
    "['dm-lin', 0.800168, 0.016579, 0.007414, -0.091334, 0.092826, 0.2],\n",
    "['dm-iw-lin', 0.880533, 0.008357, 0.003738, -0.010969, 0.013790, 0.2],\n",
    "['dbly-lin', 0.877615, 0.005855, 0.002618, -0.013886, 0.015070, 0.2],\n",
    "['dm-rf', 0.905560, 0.003909, 0.001748, 0.014059, 0.014592, 0.2],\n",
    "['dbly-rf', 0.888407, 0.008801, 0.003936, -0.003094, 0.009329, 0.2],\n",
    "['iw', 0.909124, 0.007725, 0.003455, 0.017623, 0.019241, 0.4],\n",
    "['sn-iw', 0.858994, 0.020008, 0.008948, -0.032508, 0.038172, 0.4],\n",
    "['dm-lin', 0.874616, 0.016884, 0.007551, -0.016885, 0.023878, 0.4],\n",
    "['dm-iw-lin', 0.878847, 0.011204, 0.005011, -0.012654, 0.016902, 0.4],\n",
    "['dbly-lin', 0.867531, 0.015223, 0.006808, -0.023970, 0.028396, 0.4],\n",
    "['dm-rf', 0.938930, 0.004237, 0.001895, 0.047429, 0.047618, 0.4],\n",
    "['dbly-rf', 0.890145, 0.012363, 0.005529, -0.001356, 0.012438, 0.4],\n",
    "['iw', 0.897852, 0.009773, 0.004370, 0.006351, 0.011655, 0.6],\n",
    "['sn-iw', 0.868491, 0.015234, 0.006813, -0.023011, 0.027597, 0.6],\n",
    "['dm-lin', 0.906037, 0.008328, 0.003724, 0.014536, 0.016752, 0.6],\n",
    "['dm-iw-lin', 0.890905, 0.009356, 0.004184, -0.000596, 0.009375, 0.6],\n",
    "['dbly-lin', 0.874406, 0.013385, 0.005986, -0.017095, 0.021712, 0.6],\n",
    "['dm-rf', 0.960238, 0.000704, 0.000315, 0.068737, 0.068741, 0.6],\n",
    "['dbly-rf', 0.905743, 0.011291, 0.005050, 0.014242, 0.018175, 0.6],\n",
    "['iw', 0.889981, 0.007677, 0.003433, -0.001521, 0.007826, 0.8],\n",
    "['sn-iw', 0.846076, 0.006432, 0.002876, -0.045425, 0.045878, 0.8],\n",
    "['dm-lin', 0.952672, 0.007338, 0.003282, 0.061170, 0.061609, 0.8],\n",
    "['dm-iw-lin', 0.888959, 0.009754, 0.004362, -0.002542, 0.010080, 0.8],\n",
    "['dbly-lin', 0.851901, 0.010654, 0.004765, -0.039600, 0.041008, 0.8],\n",
    "['dm-rf', 0.973203, 0.000675, 0.000302, 0.081702, 0.081704, 0.8],\n",
    "['dbly-rf', 0.897816, 0.012506, 0.005593, 0.006315, 0.014010, 0.8]\n",
    "]\n",
    "\n",
    "zozo_gb_results = pd.DataFrame(data, columns = ['stat', 'mean', 'SD', 'SE', 'bias', 'RMSE', 'eps'])"
   ]
  },
  {
   "cell_type": "code",
   "execution_count": 80,
   "metadata": {
    "scrolled": true
   },
   "outputs": [
    {
     "data": {
      "image/png": "[encoded data removed]",
      "text/plain": [
       "<Figure size 720x432 with 1 Axes>"
      ]
     },
     "metadata": {
      "needs_background": "light"
     },
     "output_type": "display_data"
    }
   ],
   "source": [
    "barplot_by_eps(zozo_lr_results, eps_list, 'lr', 'RMSE')"
   ]
  },
  {
   "cell_type": "code",
   "execution_count": 81,
   "metadata": {
    "scrolled": true
   },
   "outputs": [
    {
     "data": {
      "image/png": "[encoded data removed]",
      "text/plain": [
       "<Figure size 720x432 with 1 Axes>"
      ]
     },
     "metadata": {
      "needs_background": "light"
     },
     "output_type": "display_data"
    }
   ],
   "source": [
    "barplot_by_eps(zozo_gb_results, eps_list, 'gb', 'RMSE')"
   ]
  }
 ],
 "metadata": {
  "kernelspec": {
   "display_name": "Python 3",
   "language": "python",
   "name": "python3"
  },
  "language_info": {
   "codemirror_mode": {
    "name": "ipython",
    "version": 3
   },
   "file_extension": ".py",
   "mimetype": "text/x-python",
   "name": "python",
   "nbconvert_exporter": "python",
   "pygments_lexer": "ipython3",
   "version": "3.8.5"
  }
 },
 "nbformat": 4,
 "nbformat_minor": 2
}
